{
 "cells": [
  {
   "cell_type": "markdown",
   "metadata": {},
   "source": [
    "# Movies Industry Data Analysis"
   ]
  },
  {
   "cell_type": "markdown",
   "metadata": {},
   "source": [
    "### Data Importing"
   ]
  },
  {
   "cell_type": "code",
   "execution_count": 3,
   "metadata": {},
   "outputs": [],
   "source": [
    "#Import libraries\n",
    "import pandas as pd\n",
    "import seaborn as sns\n",
    "import numpy as np\n",
    "\n",
    "import matplotlib\n",
    "import matplotlib.pyplot as plt\n",
    "plt.style.use('ggplot')\n",
    "from matplotlib.pyplot import figure\n",
    "\n",
    "%matplotlib inline\n",
    "matplotlib.rcParams['figure.figsize'] = (12,8) #Adjust the configuration of the plots we will create"
   ]
  },
  {
   "cell_type": "code",
   "execution_count": null,
   "metadata": {},
   "outputs": [],
   "source": [
    "#Read the data\n",
    "df = pd.read_csv('/Users/hoanglinh/Project/Important/PortfolioPreject/Project 1/movies.csv')\n",
    "df.head()"
   ]
  },
  {
   "cell_type": "markdown",
   "metadata": {},
   "source": [
    "### Data Cleaning"
   ]
  },
  {
   "cell_type": "code",
   "execution_count": null,
   "metadata": {},
   "outputs": [],
   "source": [
    "#missing data\n",
    "for col in df.columns:\n",
    "    missing = np.mean(df[col].isnull())\n",
    "    print('{} - {}%'.format(col, missing))"
   ]
  },
  {
   "cell_type": "code",
   "execution_count": null,
   "metadata": {},
   "outputs": [],
   "source": [
    "df.fillna(value=0, inplace=True)"
   ]
  },
  {
   "cell_type": "code",
   "execution_count": null,
   "metadata": {},
   "outputs": [],
   "source": [
    "# data types for columns\n",
    "df.dtypes"
   ]
  },
  {
   "cell_type": "code",
   "execution_count": null,
   "metadata": {},
   "outputs": [],
   "source": [
    "#Check missing data again\n",
    "for col in df.columns:\n",
    "    missing = np.mean(df[col].isnull())\n",
    "    print('{} - {}%'.format(col, missing))"
   ]
  },
  {
   "cell_type": "code",
   "execution_count": null,
   "metadata": {},
   "outputs": [],
   "source": [
    "#Change data type\n",
    "df['budget']= df['budget'].astype('int64')\n",
    "df['gross']= df['gross'].astype('int64')\n",
    "df['votes']= df['votes'].astype('int64')\n",
    "df['runtime']= df['runtime'].astype('int64')"
   ]
  },
  {
   "cell_type": "code",
   "execution_count": null,
   "metadata": {},
   "outputs": [],
   "source": [
    "df"
   ]
  },
  {
   "cell_type": "code",
   "execution_count": null,
   "metadata": {},
   "outputs": [],
   "source": [
    "#df[\"yearcorrect\"]= df[\"released\"].str.findall(\"\\d{4}\").apply(lambda x:  x[0])\n",
    "#df['released'] = pd.to_datetime(df['released'])\n",
    "df.info()"
   ]
  },
  {
   "cell_type": "code",
   "execution_count": null,
   "metadata": {},
   "outputs": [],
   "source": [
    "# Correct release year \n",
    "\n",
    "df['date'] = df['released'].str.extract(r'(\\w+ \\d+, \\d+)')\n",
    "df['date'] = pd.to_datetime(df['date'], format='%B %d, %Y')\n",
    "df['yearcorrected'] = df['date'].dt.year\n",
    "df.drop(columns=['released', 'year'], inplace=True)\n",
    "df"
   ]
  },
  {
   "cell_type": "code",
   "execution_count": null,
   "metadata": {},
   "outputs": [],
   "source": [
    "df.info()"
   ]
  },
  {
   "cell_type": "code",
   "execution_count": null,
   "metadata": {},
   "outputs": [],
   "source": [
    "#df['yearcorrected']= df['yearcorrected'].astype('int64')\n",
    "for col in df.columns:\n",
    "    missing = np.mean(df[col].isnull())\n",
    "    print('{} - {}%'.format(col, missing))\n",
    "    "
   ]
  },
  {
   "cell_type": "code",
   "execution_count": null,
   "metadata": {},
   "outputs": [],
   "source": [
    "df.fillna(value=0, inplace=True)"
   ]
  },
  {
   "cell_type": "code",
   "execution_count": null,
   "metadata": {},
   "outputs": [],
   "source": [
    "df['yearcorrected']= df['yearcorrected'].astype('int64')"
   ]
  },
  {
   "cell_type": "code",
   "execution_count": null,
   "metadata": {},
   "outputs": [],
   "source": [
    "df"
   ]
  },
  {
   "cell_type": "code",
   "execution_count": null,
   "metadata": {},
   "outputs": [],
   "source": [
    "df.sort_values(by=['gross'], inplace=False, ascending=False)"
   ]
  },
  {
   "cell_type": "code",
   "execution_count": null,
   "metadata": {},
   "outputs": [],
   "source": [
    "pd.set_option('display.max_rows', None)"
   ]
  },
  {
   "cell_type": "code",
   "execution_count": null,
   "metadata": {},
   "outputs": [],
   "source": [
    "#Drop duplicate\n",
    "#df['company'].drop_duplicates().sort_values(ascending=False)\n",
    "company2=df['company'].drop_duplicates()\n",
    "company2.astype(str).sort_values(ascending=False)\n"
   ]
  },
  {
   "cell_type": "markdown",
   "metadata": {},
   "source": [
    "### Data Correlation"
   ]
  },
  {
   "cell_type": "code",
   "execution_count": null,
   "metadata": {},
   "outputs": [],
   "source": [
    "df"
   ]
  },
  {
   "cell_type": "markdown",
   "metadata": {},
   "source": [
    "#### Budget and Gross"
   ]
  },
  {
   "cell_type": "code",
   "execution_count": null,
   "metadata": {},
   "outputs": [],
   "source": [
    "# Scatter plot with budget and gross\n",
    "\n",
    "\n",
    "plt.scatter(x=df['budget'], y=df['gross'])\n",
    "\n",
    "plt.title('Budget and Gross Earnings')\n",
    "\n",
    "plt.xlabel('Gross Earnings')\n",
    "plt.ylabel('Film Budget')\n",
    "plt.show()\n",
    "\n"
   ]
  },
  {
   "cell_type": "code",
   "execution_count": null,
   "metadata": {},
   "outputs": [],
   "source": [
    "# Seaborn plot with Gross and Budget \n",
    "\n",
    "sns.regplot(x='budget', y='gross', data=df, scatter_kws={'color':'red'}, line_kws={'color':'black'})\n",
    "\n"
   ]
  },
  {
   "cell_type": "code",
   "execution_count": null,
   "metadata": {},
   "outputs": [],
   "source": [
    "#Correlation between variables\n",
    "\n",
    "#df2=df[('budget'), ('gross'), ('runtime'), ('score'), ('votes'), ('year')].copy()\n",
    "\n",
    "df2=df[['budget', 'gross', 'yearcorrected', 'runtime', 'votes', 'score']].copy()\n",
    "df2.corr()"
   ]
  },
  {
   "cell_type": "code",
   "execution_count": null,
   "metadata": {},
   "outputs": [],
   "source": [
    "#Correlation of rating, genre and country\n",
    "\n",
    "#rating\n",
    "df['rating']=df['rating'].astype('category')\n",
    "df['rated']=df['rating'].cat.codes\n",
    "\n",
    "#genre\n",
    "df['genre']=df['genre'].astype('category')\n",
    "df['genre2']=df['genre'].cat.codes\n",
    "\n",
    "#country\n",
    "df['country']=df['country'].astype('category')\n",
    "df['country2']=df['country'].cat.codes\n",
    "\n",
    "df3=df[['budget', 'gross', 'yearcorrected', 'runtime', 'votes', 'score', 'rated', 'country2', 'genre2']].copy()\n",
    "df3.corr()\n",
    "\n",
    "\n"
   ]
  },
  {
   "cell_type": "markdown",
   "metadata": {},
   "source": [
    "The result shows that gross earnings of a film has the largest correlation with the budget of that film. The higher the budget, the higher the earnings. \n",
    "The result also shows that runtime, votes, country and genre also has impact on the gross earnings, however, it's not as strong as budget variable. \n",
    "Other variables such as year, score, and rates don't have strong correlation with the gross earnings of a film."
   ]
  },
  {
   "cell_type": "code",
   "execution_count": null,
   "metadata": {},
   "outputs": [],
   "source": [
    "# Visualize correlation matrix\n",
    "\n",
    "correlation_matrix = df3.corr()\n",
    "\n",
    "sns.heatmap(correlation_matrix, annot=True)\n",
    "\n",
    "plt.title('Correlation Matrix')\n",
    "\n",
    "plt.xlabel('Movie Features')\n",
    "plt.ylabel('Movie Features')\n",
    "\n",
    "plt.show()"
   ]
  },
  {
   "cell_type": "code",
   "execution_count": null,
   "metadata": {},
   "outputs": [],
   "source": [
    "#Look at other variable\n",
    "\n",
    "df_numerized=df\n",
    "\n",
    "for col_name in df_numerized: \n",
    "    if(df_numerized[col_name].dtype == 'object'):\n",
    "        df_numerized[col_name] = df_numerized[col_name].astype('category')\n",
    "        df_numerized[col_name] = df_numerized[col_name].cat.codes\n",
    "        \n",
    "        \n",
    "#df_numerized.drop(columns=['name', 'rating', 'genre', 'country'], inplace=True)\n",
    "        \n",
    "df_numerized\n"
   ]
  },
  {
   "cell_type": "code",
   "execution_count": null,
   "metadata": {},
   "outputs": [],
   "source": [
    "df_numerized.corr()"
   ]
  },
  {
   "cell_type": "code",
   "execution_count": null,
   "metadata": {},
   "outputs": [],
   "source": [
    "correlation_mtx = df_numerized.corr()\n",
    "\n",
    "sns.heatmap(correlation_mtx, annot=True)\n",
    "\n",
    "plt.title('Full Data Correlation Matrix')\n",
    "\n",
    "plt.xlabel('Movie Features')\n",
    "plt.ylabel('Movie Features')\n",
    "\n",
    "plt.show()"
   ]
  },
  {
   "cell_type": "code",
   "execution_count": null,
   "metadata": {},
   "outputs": [],
   "source": [
    "correlation_mtx = df_numerized.corr()\n",
    "\n",
    "corr_pairs = correlation_mtx.unstack()\n"
   ]
  },
  {
   "cell_type": "code",
   "execution_count": null,
   "metadata": {},
   "outputs": [],
   "source": [
    "sorted_pairs = corr_pairs.sort_values()\n",
    "\n"
   ]
  },
  {
   "cell_type": "code",
   "execution_count": null,
   "metadata": {},
   "outputs": [],
   "source": [
    "high_corr = sorted_pairs[(sorted_pairs)>0.5]\n",
    "\n",
    "high_corr"
   ]
  },
  {
   "cell_type": "code",
   "execution_count": null,
   "metadata": {},
   "outputs": [],
   "source": []
  }
 ],
 "metadata": {
  "kernelspec": {
   "display_name": "Python 3 (ipykernel)",
   "language": "python",
   "name": "python3"
  },
  "language_info": {
   "codemirror_mode": {
    "name": "ipython",
    "version": 3
   },
   "file_extension": ".py",
   "mimetype": "text/x-python",
   "name": "python",
   "nbconvert_exporter": "python",
   "pygments_lexer": "ipython3",
   "version": "3.9.6"
  }
 },
 "nbformat": 4,
 "nbformat_minor": 4
}
